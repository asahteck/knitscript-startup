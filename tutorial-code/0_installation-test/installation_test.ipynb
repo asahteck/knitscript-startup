{
 "cells": [
  {
   "cell_type": "markdown",
   "source": [
    "# Knit Script Installation Test and Walkthrough\n",
    "\n",
    "Start by creating a knit_script program or \".ks\" file. \n",
    "\n",
    "Knit script can be run from python strings such as:"
   ],
   "metadata": {
    "collapsed": false
   },
   "id": "73760c187a76f0a"
  },
  {
   "cell_type": "code",
   "execution_count": null,
   "outputs": [],
   "source": [
    "program = r\"\"\"\n",
    "import cast_ons;\n",
    "import stockinette;\n",
    "\n",
    "with Carrier as 1, width as 4, height as 4:{\n",
    "    cast_ons.alt_tuck_cast_on(width);\n",
    "    stockinette.stst(height);                \n",
    "}\n",
    "        \"\"\"\n",
    "with open(\"program.ks\", mode='w') as file:\n",
    "\tfile.write(program)"
   ],
   "metadata": {
    "collapsed": false
   },
   "id": "8bc066c55986d94b"
  },
  {
   "cell_type": "markdown",
   "source": [
    "## Run KnitScript from String\n",
    "This program can then be interpreted into knitout instructions by running the following"
   ],
   "metadata": {
    "collapsed": false
   },
   "id": "8421e164efab664d"
  },
  {
   "cell_type": "code",
   "execution_count": null,
   "outputs": [],
   "source": [
    "from knit_script.interpret import knit_script_to_knitout\n",
    "\n",
    "knit_graph, _machine_state = knit_script_to_knitout(program, \"installation.k\", pattern_is_filename=False)"
   ],
   "metadata": {
    "collapsed": false
   },
   "id": "bfcb6c08dd274423"
  },
  {
   "cell_type": "markdown",
   "source": [
    "This will generate a \"program.k\" file which in this case reads:"
   ],
   "metadata": {
    "collapsed": false
   },
   "id": "2b53231c70a56cc3"
  },
  {
   "cell_type": "code",
   "execution_count": null,
   "outputs": [],
   "source": [
    "def print_knitout(filename: str):\n",
    "\twith open( filename, mode='r') as knitout_file:\n",
    "\t\tprint_str = \"\"\n",
    "\t\tfor line in knitout_file.readlines():\n",
    "\t\t\tprint_str += line\n",
    "\t\tprint(print_str)\n",
    "\n",
    "print_knitout(\"installation.k\")"
   ],
   "metadata": {
    "collapsed": false
   },
   "id": "da3fef8fb9f07323"
  },
  {
   "cell_type": "markdown",
   "source": [
    "It also creates a KnitGraph object which you can visualize:"
   ],
   "metadata": {
    "collapsed": false
   },
   "id": "bbc8b27145c7dc17"
  },
  {
   "cell_type": "code",
   "execution_count": null,
   "outputs": [],
   "source": [
    "from knit_script.knit_graphs.knit_graph_viz import visualize_sheet\n",
    "\n",
    "visualize_sheet(knit_graph, \"program_knit_graph.png\")"
   ],
   "metadata": {
    "collapsed": false
   },
   "id": "5429ad159c03af82"
  },
  {
   "cell_type": "markdown",
   "source": [
    "\n",
    "## Run KnitScript from file\n",
    "You can also run knitout from separate files usually with a `.ks` extenstion, like so:"
   ],
   "metadata": {
    "collapsed": false
   },
   "id": "fe84f66bee48be34"
  },
  {
   "cell_type": "code",
   "execution_count": null,
   "outputs": [],
   "source": [
    "knit_graph, _machine_state = knit_script_to_knitout(\"installation_test.ks\", \"program_from_file.k\", pattern_is_filename=True)\n",
    "\n",
    "print_knitout(\"program_from_file.k\")"
   ],
   "metadata": {
    "collapsed": false
   },
   "id": "1ee970452ae3bbd1"
  },
  {
   "cell_type": "markdown",
   "source": [
    "# Getting Machine Files for Shima Seiki\n",
    "If you want to run this knitout on a Shima Seiki machine, you will need to create a DAT file using the DAT compiler. This looks similar to the above calls:"
   ],
   "metadata": {
    "collapsed": false
   },
   "id": "dfa1e4ab3663785d"
  },
  {
   "cell_type": "code",
   "execution_count": null,
   "outputs": [],
   "source": [
    "from knit_script.interpret import knit_script_to_knitout_to_dat\n",
    "\n",
    "knit_graph, _machine_state = knit_script_to_knitout_to_dat(\"program.ks\", \"program_for_dat.k\",\"program.dat\", pattern_is_filename=True)"
   ],
   "metadata": {
    "collapsed": false
   },
   "id": "6b674b3f345dbfa3"
  },
  {
   "cell_type": "markdown",
   "source": [
    "To view this DAT file you can load it into the HTMl interface from [Dat Viewer](../knit_script/knitout_compilers/dat-viewer.html)."
   ],
   "metadata": {
    "collapsed": false
   },
   "id": "9654ddc2ab85c415"
  }
 ],
 "metadata": {
  "kernelspec": {
   "display_name": "Python 3",
   "language": "python",
   "name": "python3"
  },
  "language_info": {
   "codemirror_mode": {
    "name": "ipython",
    "version": 2
   },
   "file_extension": ".py",
   "mimetype": "text/x-python",
   "name": "python",
   "nbconvert_exporter": "python",
   "pygments_lexer": "ipython2",
   "version": "2.7.6"
  }
 },
 "nbformat": 4,
 "nbformat_minor": 5
}
